{
 "cells": [
  {
   "cell_type": "code",
   "execution_count": 3,
   "id": "291f60cf",
   "metadata": {},
   "outputs": [],
   "source": [
    "%matplotlib inline\n",
    "import pandas as pd\n",
    "import matplotlib.pyplot as plt\n",
    "plt.rc('figure', figsize = (15,8))"
   ]
  },
  {
   "cell_type": "code",
   "execution_count": 4,
   "id": "871547ea",
   "metadata": {},
   "outputs": [
    {
     "data": {
      "text/html": [
       "<div>\n",
       "<style scoped>\n",
       "    .dataframe tbody tr th:only-of-type {\n",
       "        vertical-align: middle;\n",
       "    }\n",
       "\n",
       "    .dataframe tbody tr th {\n",
       "        vertical-align: top;\n",
       "    }\n",
       "\n",
       "    .dataframe thead th {\n",
       "        text-align: right;\n",
       "    }\n",
       "</style>\n",
       "<table border=\"1\" class=\"dataframe\">\n",
       "  <thead>\n",
       "    <tr style=\"text-align: right;\">\n",
       "      <th></th>\n",
       "      <th>Tipo</th>\n",
       "      <th>Bairro</th>\n",
       "      <th>Quartos</th>\n",
       "      <th>Vagas</th>\n",
       "      <th>Suites</th>\n",
       "      <th>Area</th>\n",
       "      <th>Valor</th>\n",
       "      <th>Condominio</th>\n",
       "      <th>IPTU</th>\n",
       "    </tr>\n",
       "  </thead>\n",
       "  <tbody>\n",
       "    <tr>\n",
       "      <th>0</th>\n",
       "      <td>Quitinete</td>\n",
       "      <td>Copacabana</td>\n",
       "      <td>1</td>\n",
       "      <td>0</td>\n",
       "      <td>0</td>\n",
       "      <td>40</td>\n",
       "      <td>1700.0</td>\n",
       "      <td>500.0</td>\n",
       "      <td>60.0</td>\n",
       "    </tr>\n",
       "    <tr>\n",
       "      <th>1</th>\n",
       "      <td>Casa</td>\n",
       "      <td>Jardim Botânico</td>\n",
       "      <td>2</td>\n",
       "      <td>0</td>\n",
       "      <td>1</td>\n",
       "      <td>100</td>\n",
       "      <td>7000.0</td>\n",
       "      <td>NaN</td>\n",
       "      <td>NaN</td>\n",
       "    </tr>\n",
       "    <tr>\n",
       "      <th>2</th>\n",
       "      <td>Conjunto Comercial/Sala</td>\n",
       "      <td>Barra da Tijuca</td>\n",
       "      <td>0</td>\n",
       "      <td>4</td>\n",
       "      <td>0</td>\n",
       "      <td>150</td>\n",
       "      <td>5200.0</td>\n",
       "      <td>4020.0</td>\n",
       "      <td>1111.0</td>\n",
       "    </tr>\n",
       "    <tr>\n",
       "      <th>3</th>\n",
       "      <td>Apartamento</td>\n",
       "      <td>Centro</td>\n",
       "      <td>1</td>\n",
       "      <td>0</td>\n",
       "      <td>0</td>\n",
       "      <td>15</td>\n",
       "      <td>800.0</td>\n",
       "      <td>390.0</td>\n",
       "      <td>20.0</td>\n",
       "    </tr>\n",
       "    <tr>\n",
       "      <th>4</th>\n",
       "      <td>Apartamento</td>\n",
       "      <td>Higienópolis</td>\n",
       "      <td>1</td>\n",
       "      <td>0</td>\n",
       "      <td>0</td>\n",
       "      <td>48</td>\n",
       "      <td>800.0</td>\n",
       "      <td>230.0</td>\n",
       "      <td>NaN</td>\n",
       "    </tr>\n",
       "  </tbody>\n",
       "</table>\n",
       "</div>"
      ],
      "text/plain": [
       "                      Tipo           Bairro  Quartos  Vagas  Suites  Area  \\\n",
       "0                Quitinete       Copacabana        1      0       0    40   \n",
       "1                     Casa  Jardim Botânico        2      0       1   100   \n",
       "2  Conjunto Comercial/Sala  Barra da Tijuca        0      4       0   150   \n",
       "3              Apartamento           Centro        1      0       0    15   \n",
       "4              Apartamento     Higienópolis        1      0       0    48   \n",
       "\n",
       "    Valor  Condominio    IPTU  \n",
       "0  1700.0       500.0    60.0  \n",
       "1  7000.0         NaN     NaN  \n",
       "2  5200.0      4020.0  1111.0  \n",
       "3   800.0       390.0    20.0  \n",
       "4   800.0       230.0     NaN  "
      ]
     },
     "execution_count": 4,
     "metadata": {},
     "output_type": "execute_result"
    }
   ],
   "source": [
    "dados = pd.read_csv('aluguel.csv', sep = ';')\n",
    "dados.head()"
   ]
  },
  {
   "cell_type": "code",
   "execution_count": 5,
   "id": "ebeb80e7",
   "metadata": {},
   "outputs": [
    {
     "data": {
      "text/plain": [
       "<Figure size 1080x576 with 0 Axes>"
      ]
     },
     "metadata": {},
     "output_type": "display_data"
    }
   ],
   "source": [
    "area = plt.figure() "
   ]
  },
  {
   "cell_type": "code",
   "execution_count": 6,
   "id": "9bb1c4dc",
   "metadata": {},
   "outputs": [],
   "source": [
    "g1 = area.add_subplot(2, 2, 1)"
   ]
  },
  {
   "cell_type": "code",
   "execution_count": 7,
   "id": "9eb1f557",
   "metadata": {},
   "outputs": [],
   "source": [
    "g1 = area.add_subplot(2, 2, 1)\n",
    "g2 = area.add_subplot(2, 2, 2)\n",
    "g3 = area.add_subplot(2, 2, 3)\n",
    "g4 = area.add_subplot(2, 2, 4)"
   ]
  },
  {
   "cell_type": "code",
   "execution_count": 8,
   "id": "6d298cec",
   "metadata": {},
   "outputs": [
    {
     "data": {
      "text/plain": [
       "Text(0.5, 1.0, 'Valor X Área')"
      ]
     },
     "execution_count": 8,
     "metadata": {},
     "output_type": "execute_result"
    }
   ],
   "source": [
    "g1.scatter(dados.Valor, dados.Area)\n",
    "g1.set_title('Valor X Área')"
   ]
  },
  {
   "cell_type": "code",
   "execution_count": 9,
   "id": "89cfe646",
   "metadata": {},
   "outputs": [
    {
     "data": {
      "text/plain": [
       "Text(0.5, 1.0, 'Valor Médio por Tipo')"
      ]
     },
     "execution_count": 9,
     "metadata": {},
     "output_type": "execute_result"
    }
   ],
   "source": [
    "g1.scatter(dados.Valor, dados.Area)\n",
    "g1.set_title('Valor X Área')\n",
    "\n",
    "g2.hist(dados.Valor)\n",
    "g2.set_title('Histograma')\n",
    "\n",
    "dados_g3 = dados.Valor.sample(100) \n",
    "dados_g3.index = range(dados_g3.shape[0])\n",
    "g3.plot(dados_g3)\n",
    "g3.set_title('Amostra (Valor)')\n",
    "\n",
    "grupo = dados.groupby('Tipo')['Valor']\n",
    "label = grupo.mean().index\n",
    "valores = grupo.mean().values\n",
    "g4.bar(label, valores)\n",
    "g4.set_title('Valor Médio por Tipo')"
   ]
  },
  {
   "cell_type": "code",
   "execution_count": 10,
   "id": "5233d075",
   "metadata": {},
   "outputs": [],
   "source": [
    "area.savefig('grafico.png', dpi = 300, bbox_inches = 'tight')"
   ]
  }
 ],
 "metadata": {
  "kernelspec": {
   "display_name": "Python 3 (ipykernel)",
   "language": "python",
   "name": "python3"
  },
  "language_info": {
   "codemirror_mode": {
    "name": "ipython",
    "version": 3
   },
   "file_extension": ".py",
   "mimetype": "text/x-python",
   "name": "python",
   "nbconvert_exporter": "python",
   "pygments_lexer": "ipython3",
   "version": "3.9.12"
  }
 },
 "nbformat": 4,
 "nbformat_minor": 5
}
